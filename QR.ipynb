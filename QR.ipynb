{
 "cells": [
  {
   "cell_type": "markdown",
   "metadata": {},
   "source": [
    "## QR Project"
   ]
  },
  {
   "cell_type": "markdown",
   "metadata": {},
   "source": [
    "- Student Name: Nguyen Thai Hiep\n",
    "- Student ID: 20127496\n",
    "- Class: 20CLC07"
   ]
  },
  {
   "cell_type": "code",
   "execution_count": 223,
   "metadata": {},
   "outputs": [],
   "source": [
    "import math # to use only sqrt()"
   ]
  },
  {
   "cell_type": "markdown",
   "metadata": {},
   "source": [
    "### Question 1"
   ]
  },
  {
   "cell_type": "markdown",
   "metadata": {},
   "source": [
    "### 1. Minus Function"
   ]
  },
  {
   "cell_type": "code",
   "execution_count": 224,
   "metadata": {},
   "outputs": [],
   "source": [
    "def minus(vt_a, vt_b):\n",
    "    \"\"\"\n",
    "        Input: vector A, vector B is a array\n",
    "        Output: vector C = vector A - vector B\n",
    "    \"\"\"\n",
    "    if len(vt_a) != len(vt_b):\n",
    "        raise Exception(\"length of prammaters is not the same\")\n",
    "    vt_c = []\n",
    "    for i in range(len(vt_a)):\n",
    "        vt_c.append(vt_a[i] - vt_b[i])\n",
    "    return vt_c"
   ]
  },
  {
   "cell_type": "markdown",
   "metadata": {},
   "source": [
    "### 2. Scalar Function"
   ]
  },
  {
   "cell_type": "code",
   "execution_count": 225,
   "metadata": {},
   "outputs": [],
   "source": [
    "def scalar(vt_a, vt_b):\n",
    "    \"\"\"\n",
    "        Input: vector A, vector B is array\n",
    "        Output: scalar of A and B\n",
    "    \"\"\"\n",
    "    len_a = len(vt_a)\n",
    "    len_b = len(vt_b)\n",
    "    if len_a != len_b:\n",
    "        raise Exception(\"length of prammaters is not the same\")\n",
    "    else:\n",
    "        res = 0\n",
    "        for i in range(len_a):\n",
    "            res += vt_a[i] * vt_b[i]\n",
    "        return res"
   ]
  },
  {
   "cell_type": "markdown",
   "metadata": {},
   "source": [
    "### 3. Modulus Function"
   ]
  },
  {
   "cell_type": "code",
   "execution_count": 226,
   "metadata": {},
   "outputs": [],
   "source": [
    "def modulus(vector):\n",
    "    \"\"\"\n",
    "        Input: vector A is a array\n",
    "        Output: modulus of A\n",
    "    \"\"\"\n",
    "    res = 0\n",
    "    n = len(vector)\n",
    "    for i in range(n):\n",
    "        res += vector[i]**2\n",
    "    return math.sqrt(res)"
   ]
  },
  {
   "cell_type": "markdown",
   "metadata": {},
   "source": [
    "### 4. Vector Multiplication Function"
   ]
  },
  {
   "cell_type": "code",
   "execution_count": 227,
   "metadata": {},
   "outputs": [],
   "source": [
    "def multi(vector, alpha):\n",
    "    \"\"\"\n",
    "        Input: vector A is a array, alpha is a float\n",
    "        Output: vector B is a array which A x alpha\n",
    "    \"\"\"\n",
    "    n = len(vector)\n",
    "    res = is_equal(vector)\n",
    "    for i in range(n):\n",
    "        res[i] = res[i] * alpha\n",
    "    return res"
   ]
  },
  {
   "cell_type": "markdown",
   "metadata": {},
   "source": [
    "### 5. Is Equal Function"
   ]
  },
  {
   "cell_type": "code",
   "execution_count": 228,
   "metadata": {},
   "outputs": [],
   "source": [
    "def is_equal(vector):\n",
    "    \"\"\"\n",
    "        Input: vector A is a array\n",
    "        Output: vector B is equal A\n",
    "    \"\"\"\n",
    "    n = len(vector)\n",
    "    res = []\n",
    "    for i in range(n):\n",
    "        res.append(vector[i])\n",
    "    return res"
   ]
  },
  {
   "cell_type": "markdown",
   "metadata": {},
   "source": [
    "### 6. Gram-Schmidt Algorithm"
   ]
  },
  {
   "cell_type": "code",
   "execution_count": 229,
   "metadata": {},
   "outputs": [],
   "source": [
    "def gram_schmidt(vectors):\n",
    "    \"\"\"\n",
    "        Input: List of vectors is array \n",
    "        Output List of vectors is array and they are orthonormality\n",
    "    \"\"\"\n",
    "    result = []\n",
    "    n = len(vectors)\n",
    "    v = is_equal(vectors[0])\n",
    "    if modulus(v) == 0:\n",
    "        return None\n",
    "    result.append(v)\n",
    "    for i in range(1, n, 1):\n",
    "        v = is_equal(vectors[i])\n",
    "        for vi in result:\n",
    "            v = minus(v, multi(vi, scalar(v, vi) / (modulus(vi) ** 2)))\n",
    "        if modulus(v) == 0:\n",
    "            return None\n",
    "        result.append(v)\n",
    "    # Orthonormality\n",
    "    for i in range(len(result)):\n",
    "        modul = modulus(result[i])\n",
    "        for j in range(len(result[0])):\n",
    "            result[i][j] = result[i][j] / modul\n",
    "    return result"
   ]
  },
  {
   "cell_type": "markdown",
   "metadata": {},
   "source": [
    "### 7. Transpose"
   ]
  },
  {
   "cell_type": "code",
   "execution_count": 230,
   "metadata": {},
   "outputs": [],
   "source": [
    "def transpose(matrix):\n",
    "    \"\"\"\n",
    "        Input: a matrix\n",
    "        Output: a transpose matrix\n",
    "    \"\"\"\n",
    "    return [[matrix[j][i] for j in range(len(matrix))] for i in range(len(matrix[0]))]"
   ]
  },
  {
   "cell_type": "markdown",
   "metadata": {},
   "source": [
    "### 8. Matrix multiplication"
   ]
  },
  {
   "cell_type": "code",
   "execution_count": 231,
   "metadata": {},
   "outputs": [],
   "source": [
    "def mutil_matrix(mt_A, mt_B):\n",
    "    \"\"\"\n",
    "        Input: matrix A and matrix B\n",
    "        Output: matrix C = A x B\n",
    "    \"\"\"\n",
    "    if len(mt_A[0]) != len(mt_B):\n",
    "        return None\n",
    "    else:\n",
    "        res = [[0 for _ in range(len(mt_B[0]))] for _ in range(len(mt_A))]\n",
    "        for i in range(len(res)):\n",
    "            for j in range(len(res[0])):\n",
    "                for k in range(len(mt_B)):\n",
    "                    res[i][j] += mt_A[i][k] * mt_B[k][j]\n",
    "        return res"
   ]
  },
  {
   "cell_type": "markdown",
   "metadata": {},
   "source": [
    "## QR"
   ]
  },
  {
   "cell_type": "code",
   "execution_count": 232,
   "metadata": {},
   "outputs": [],
   "source": [
    "def QR(matrix):\n",
    "    Q = gram_schmidt(transpose(matrix))\n",
    "\n",
    "    R = mutil_matrix(Q, matrix)\n",
    "\n",
    "    return Q, R"
   ]
  },
  {
   "cell_type": "markdown",
   "metadata": {},
   "source": [
    "### Display - Print matrix"
   ]
  },
  {
   "cell_type": "code",
   "execution_count": 233,
   "metadata": {},
   "outputs": [],
   "source": [
    "def print_matrix(A):\n",
    "    for line in A:\n",
    "        print(line)\n",
    "\n",
    "def print_matrix_Q(Q):\n",
    "    for i in range(len(Q)):\n",
    "        print('v{}: {}'.format(i + 1, Q[i]))"
   ]
  },
  {
   "cell_type": "markdown",
   "metadata": {},
   "source": [
    "#### Question 2"
   ]
  },
  {
   "cell_type": "markdown",
   "metadata": {},
   "source": [
    "**Example a)**\n",
    "$$\n",
    "\\left(\\begin{array}{cc} \n",
    "1 & 1 & 2 \\\\\n",
    "2 & -1 & 1 \\\\\n",
    "-2 & 4 & 1\n",
    "\\end{array}\\right)\n",
    "$$"
   ]
  },
  {
   "cell_type": "code",
   "execution_count": 234,
   "metadata": {},
   "outputs": [
    {
     "name": "stdout",
     "output_type": "stream",
     "text": [
      "Q Matrix: \n",
      "v1: [0.3333333333333333, 0.6666666666666666, -0.6666666666666666]\n",
      "v2: [0.6666666666666666, 0.3333333333333333, 0.6666666666666666]\n",
      "v3: [0.6666666666666664, -0.6666666666666667, -0.33333333333333354]\n",
      "R Matrix: \n",
      "[3.0, -3.0, 0.6666666666666666]\n",
      "[0.0, 3.0, 2.333333333333333]\n",
      "[0.0, -1.1102230246251565e-15, 0.33333333333333254]\n"
     ]
    }
   ],
   "source": [
    "Q, R = QR([\n",
    "    [1, 1, 2],\n",
    "    [2, -1, 1],\n",
    "    [-2, 4, 1]\n",
    "])\n",
    "print('Q Matrix: ')\n",
    "print_matrix_Q(Q)\n",
    "print('R Matrix: ')\n",
    "print_matrix(R)"
   ]
  },
  {
   "cell_type": "markdown",
   "metadata": {},
   "source": [
    "**Example b)**\n",
    "$$\n",
    "\\left(\\begin{array}{cc} \n",
    "1 & 1 & 1 \\\\\n",
    "2 & -2 & 2 \\\\\n",
    "1 & 1 & -1\n",
    "\\end{array}\\right)\n",
    "$$"
   ]
  },
  {
   "cell_type": "code",
   "execution_count": 235,
   "metadata": {},
   "outputs": [
    {
     "name": "stdout",
     "output_type": "stream",
     "text": [
      "Q Matrix: \n",
      "v1: [0.4082482904638631, 0.8164965809277261, 0.4082482904638631]\n",
      "v2: [0.5773502691896257, -0.5773502691896256, 0.5773502691896257]\n",
      "v3: [0.7071067811865475, 0.0, -0.7071067811865476]\n",
      "R Matrix: \n",
      "[2.4494897427831783, -0.816496580927726, 1.632993161855452]\n",
      "[2.220446049250313e-16, 2.309401076758503, -1.1547005383792512]\n",
      "[-1.1102230246251565e-16, -1.1102230246251565e-16, 1.414213562373095]\n"
     ]
    }
   ],
   "source": [
    "Q, R = QR([\n",
    "    [1, 1, 1],\n",
    "    [2, -2, 2],\n",
    "    [1, 1, -1]\n",
    "])\n",
    "print('Q Matrix: ')\n",
    "print_matrix_Q(Q)\n",
    "print('R Matrix: ')\n",
    "print_matrix(R)"
   ]
  },
  {
   "cell_type": "markdown",
   "metadata": {},
   "source": [
    "**Example c)**\n",
    "$$\n",
    "\\left(\\begin{array}{cc} \n",
    "1 & 1 & -1 \\\\\n",
    "0 & 1 & 2 \\\\\n",
    "1 & 1 & 1\n",
    "\\end{array}\\right)\n",
    "$$"
   ]
  },
  {
   "cell_type": "code",
   "execution_count": 236,
   "metadata": {},
   "outputs": [
    {
     "name": "stdout",
     "output_type": "stream",
     "text": [
      "Q Matrix: \n",
      "v1: [0.7071067811865475, 0.0, 0.7071067811865475]\n",
      "v2: [2.220446049250313e-16, 1.0, 2.220446049250313e-16]\n",
      "v3: [-0.7071067811865478, 0.0, 0.7071067811865471]\n",
      "R Matrix: \n",
      "[1.414213562373095, 1.414213562373095, 0.0]\n",
      "[4.440892098500626e-16, 1.0000000000000004, 2.0]\n",
      "[-6.661338147750939e-16, -6.661338147750939e-16, 1.414213562373095]\n"
     ]
    }
   ],
   "source": [
    "Q, R = QR([\n",
    "    [1, 1, -1],\n",
    "    [0, 1, 2],\n",
    "    [1, 1, 1]\n",
    "])\n",
    "print('Q Matrix: ')\n",
    "print_matrix_Q(Q)\n",
    "print('R Matrix: ')\n",
    "print_matrix(R)"
   ]
  },
  {
   "cell_type": "markdown",
   "metadata": {},
   "source": [
    "**Example d)**\n",
    "$$\n",
    "\\left(\\begin{array}{cc} \n",
    "-1 & -1 & 1 \\\\\n",
    "1 & 3 & 3 \\\\\n",
    "-1 & -1 & 5 \\\\\n",
    "1 & 3 & 7\n",
    "\\end{array}\\right)\n",
    "$$"
   ]
  },
  {
   "cell_type": "code",
   "execution_count": 237,
   "metadata": {},
   "outputs": [
    {
     "name": "stdout",
     "output_type": "stream",
     "text": [
      "Q Matrix: \n",
      "v1: [-0.5, 0.5, -0.5, 0.5]\n",
      "v2: [0.5, 0.5, 0.5, 0.5]\n",
      "v3: [-0.5, -0.5, 0.5, 0.5]\n",
      "R Matrix: \n",
      "[2.0, 4.0, 2.0]\n",
      "[0.0, 2.0, 8.0]\n",
      "[0.0, 0.0, 4.0]\n"
     ]
    }
   ],
   "source": [
    "Q, R = QR([\n",
    "    [-1, -1, 1],\n",
    "    [1, 3, 3],\n",
    "    [-1, -1, 5],\n",
    "    [1, 3, 7]\n",
    "])\n",
    "print('Q Matrix: ')\n",
    "print_matrix_Q(Q)\n",
    "print('R Matrix: ')\n",
    "print_matrix(R)"
   ]
  },
  {
   "cell_type": "markdown",
   "metadata": {},
   "source": [
    "**Example e)**\n",
    "$$\n",
    "\\left(\\begin{array}{cc} \n",
    "1 & 1 & 1 \\\\\n",
    "2 & 2 & 0 \\\\\n",
    "3 & 0 & 0 \\\\\n",
    "0 & 0 & 1\n",
    "\\end{array}\\right)\n",
    "$$"
   ]
  },
  {
   "cell_type": "code",
   "execution_count": 238,
   "metadata": {},
   "outputs": [
    {
     "name": "stdout",
     "output_type": "stream",
     "text": [
      "Q Matrix: \n",
      "v1: [0.2672612419124244, 0.5345224838248488, 0.8017837257372732, 0.0]\n",
      "v2: [0.3585685828003181, 0.7171371656006362, -0.5976143046671969, 0.0]\n",
      "v3: [0.5962847939999439, -0.29814239699997197, 4.1375569220787883e-17, 0.7453559924999299]\n",
      "R Matrix: \n",
      "[3.7416573867739413, 1.3363062095621219, 0.2672612419124244]\n",
      "[0.0, 1.7928429140015907, 0.3585685828003181]\n",
      "[1.2412670766236366e-16, 0.0, 1.3416407864998738]\n"
     ]
    }
   ],
   "source": [
    "Q, R = QR([\n",
    "    [1, 1, 1],\n",
    "    [2, 2, 0],\n",
    "    [3, 0, 0],\n",
    "    [0, 0, 1]\n",
    "])\n",
    "print('Q Matrix: ')\n",
    "print_matrix_Q(Q)\n",
    "print('R Matrix: ')\n",
    "print_matrix(R)"
   ]
  },
  {
   "cell_type": "markdown",
   "metadata": {},
   "source": [
    "**Example f)**\n",
    "$$\n",
    "\\left(\\begin{array}{cc} \n",
    "-2 & 1 & 3 \\\\\n",
    "1 & 0 & 0 \\\\\n",
    "0 & 1 & 0 \\\\\n",
    "0 & 0 & 1\n",
    "\\end{array}\\right)\n",
    "$$"
   ]
  },
  {
   "cell_type": "code",
   "execution_count": 239,
   "metadata": {},
   "outputs": [
    {
     "name": "stdout",
     "output_type": "stream",
     "text": [
      "Q Matrix: \n",
      "v1: [-0.8944271909999159, 0.4472135954999579, 0.0, 0.0]\n",
      "v2: [0.18257418583505555, 0.36514837167011066, 0.9128709291752769, 0.0]\n",
      "v3: [0.3162277660168382, 0.6324555320336757, -0.316227766016838, 0.6324555320336759]\n",
      "R Matrix: \n",
      "[2.23606797749979, -0.8944271909999159, -2.6832815729997477]\n",
      "[-4.440892098500626e-16, 1.0954451150103324, 0.5477225575051666]\n",
      "[-7.771561172376096e-16, 2.220446049250313e-16, 1.5811388300841904]\n"
     ]
    }
   ],
   "source": [
    "Q, R = QR([\n",
    "    [-2, 1, 3],\n",
    "    [1, 0, 0],\n",
    "    [0, 1, 0],\n",
    "    [0, 0, 1]\n",
    "])\n",
    "print('Q Matrix: ')\n",
    "print_matrix_Q(Q)\n",
    "print('R Matrix: ')\n",
    "print_matrix(R)"
   ]
  },
  {
   "cell_type": "markdown",
   "metadata": {},
   "source": [
    "**Example g)**\n",
    "$$\n",
    "\\left(\\begin{array}{cc} \n",
    "1 & -1 & 2 \\\\\n",
    "1 & 0 & -1 \\\\\n",
    "-1 & 1 & 2 \\\\\n",
    "0 & 1 & 1\n",
    "\\end{array}\\right)\n",
    "$$"
   ]
  },
  {
   "cell_type": "code",
   "execution_count": 240,
   "metadata": {},
   "outputs": [
    {
     "name": "stdout",
     "output_type": "stream",
     "text": [
      "Q Matrix: \n",
      "v1: [0.5773502691896258, 0.5773502691896258, -0.5773502691896258, 0.0]\n",
      "v2: [-0.2581988897471611, 0.5163977794943223, 0.2581988897471611, 0.7745966692414834]\n",
      "v3: [0.7745966692414835, -0.2581988897471611, 0.5163977794943222, 0.25819888974716115]\n",
      "R Matrix: \n",
      "[1.7320508075688776, -1.1547005383792517, -0.5773502691896258]\n",
      "[1.1102230246251565e-16, 1.2909944487358056, 0.2581988897471612]\n",
      "[2.220446049250313e-16, -1.6653345369377348e-16, 3.0983866769659336]\n"
     ]
    }
   ],
   "source": [
    "Q, R = QR([\n",
    "    [1, -1, 2],\n",
    "    [1, 0, -1],\n",
    "    [-1, 1, 2],\n",
    "    [0, 1, 1]\n",
    "])\n",
    "print('Q Matrix: ')\n",
    "print_matrix_Q(Q)\n",
    "print('R Matrix: ')\n",
    "print_matrix(R)"
   ]
  }
 ],
 "metadata": {
  "kernelspec": {
   "display_name": "Python 3.9.4 64-bit",
   "language": "python",
   "name": "python3"
  },
  "language_info": {
   "codemirror_mode": {
    "name": "ipython",
    "version": 3
   },
   "file_extension": ".py",
   "mimetype": "text/x-python",
   "name": "python",
   "nbconvert_exporter": "python",
   "pygments_lexer": "ipython3",
   "version": "3.9.4"
  },
  "orig_nbformat": 4,
  "vscode": {
   "interpreter": {
    "hash": "aee8b7b246df8f9039afb4144a1f6fd8d2ca17a180786b69acc140d282b71a49"
   }
  }
 },
 "nbformat": 4,
 "nbformat_minor": 2
}
